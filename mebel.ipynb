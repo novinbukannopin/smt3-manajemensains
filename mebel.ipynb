{
 "cells": [
  {
   "cell_type": "code",
   "execution_count": 3,
   "metadata": {},
   "outputs": [
    {
     "name": "stderr",
     "output_type": "stream",
     "text": [
      "c:\\Users\\Novin\\AppData\\Local\\Programs\\Python\\Python310\\lib\\site-packages\\pulp\\pulp.py:1352: UserWarning: Spaces are not permitted in the name. Converted to '_'\n",
      "  warnings.warn(\"Spaces are not permitted in the name. Converted to '_'\")\n"
     ]
    },
    {
     "name": "stdout",
     "output_type": "stream",
     "text": [
      "Model Status:Optimal\n",
      "Objective =  1473.68424\n",
      "A = 10.526316\n",
      "B = 23.684211\n",
      "  Name      Constraint  shadow price  slack\n",
      "0  _C1  {A: 30, B: 50}      0.526316   -0.0\n",
      "1  _C2   {A: 10, B: 4}      3.421053   -0.0\n"
     ]
    }
   ],
   "source": [
    "import pulp\n",
    "import pandas as pd\n",
    "model = pulp.LpProblem(\"profit maximizing problem\", pulp.LpMaximize)\n",
    "\n",
    "A = pulp.LpVariable('A', lowBound=0, cat='Continuous')\n",
    "B = pulp.LpVariable('B', lowBound=0, cat='Continuous')\n",
    "\n",
    "model += 50 * A + 40 * B, \"Profit\"\n",
    "model += 30 * A + 50 * B <= 1500\n",
    "model += 10 * A + 4 * B <= 200\n",
    "\n",
    "model.solve()\n",
    "\n",
    "\n",
    "print(\"Model Status:{}\".format(pulp.LpStatus[model.status]))\n",
    "print(\"Objective = \", pulp.value(model.objective))\n",
    "\n",
    "for v in model.variables():\n",
    "    print(v.name,\"=\", v.varValue)\n",
    "    \n",
    "o = [{'Name':name,'Constraint':c,'shadow price':c.pi,'slack': c.slack} for name, c in model.constraints.items()]\n",
    "\n",
    "print(pd.DataFrame(o))"
   ]
  }
 ],
 "metadata": {
  "kernelspec": {
   "display_name": "Python 3.10.2 64-bit",
   "language": "python",
   "name": "python3"
  },
  "language_info": {
   "codemirror_mode": {
    "name": "ipython",
    "version": 3
   },
   "file_extension": ".py",
   "mimetype": "text/x-python",
   "name": "python",
   "nbconvert_exporter": "python",
   "pygments_lexer": "ipython3",
   "version": "3.10.2"
  },
  "orig_nbformat": 4,
  "vscode": {
   "interpreter": {
    "hash": "b11f4619671377e7e7ea164825e9cce2d30515761c9df4cac2a5bf997e72b5c2"
   }
  }
 },
 "nbformat": 4,
 "nbformat_minor": 2
}
